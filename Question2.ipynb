{
 "cells": [
  {
   "cell_type": "code",
   "execution_count": 51,
   "id": "5071c971",
   "metadata": {},
   "outputs": [],
   "source": [
    "#Q1. Create a dictionary for the above table. Each book should have the following\n",
    "#information: title, author, publication year, and availability status (whether the book is\n",
    "#currently available or checked out).\n",
    "\n",
    "books = {\n",
    "    'Book1': {'Title': 'The Great Gatsby', 'Author': 'F. Scott Fitzgerald', 'Year': 1925, 'Availability': True},\n",
    "    'Book2': {'Title': 'To Kill a Mockingbird', 'Author': 'Harper Lee', 'Year': 1960, 'Availability': False},\n",
    "    'Book3': {'Title': '1984', 'Author': 'George Orwell', 'year': 1949, 'Availability': True},\n",
    "    'Book4': {'Title': 'Pride and Prejudice', 'Author': 'Jane Austen', 'Year': 1813, 'Availability': True},\n",
    "    'Book5': {'Title': 'The Catcher in the Rye', 'Author': 'J.D. Salinger', 'Year': 1951, 'Availability': True},\n",
    "}"
   ]
  },
  {
   "cell_type": "code",
   "execution_count": 17,
   "id": "2e48c5c5",
   "metadata": {},
   "outputs": [
    {
     "name": "stdout",
     "output_type": "stream",
     "text": [
      "Checked out\n"
     ]
    }
   ],
   "source": [
    "#Q2. Write a Python function that takes this dictionary as input and prints out a message\n",
    "#indicating whether the book is available or checked out. Check if book2 is available or\n",
    "#not\n",
    "\n",
    "def check_availability(books, book_key):\n",
    "    if book_key in books:\n",
    "        if books[book_key]['Availability']:\n",
    "            book_status = 'Available'\n",
    "            print(f'The book is {book_status}')\n",
    "        else:\n",
    "            print('Checked out')\n",
    "    else:\n",
    "        print(f'Book with key \"{book_key}\" not found in the inventory.')\n",
    "            \n",
    "check_availability(books, 'Book2')"
   ]
  },
  {
   "cell_type": "code",
   "execution_count": 54,
   "id": "d457821e",
   "metadata": {},
   "outputs": [
    {
     "name": "stdout",
     "output_type": "stream",
     "text": [
      "Book is already available and can not be returned\n"
     ]
    }
   ],
   "source": [
    "#Q3. Imagine a situation where a library user returns a checked-out book. Modify the\n",
    "#function to take an additional parameter indicating whether the book is being returned\n",
    "#or borrowed. If the book is being returned, update the book's availability status\n",
    "#accordingly. Update status of book2\n",
    "\n",
    "def Book_status(books, book_key, returned):\n",
    "    if returned:\n",
    "        if not books[book_key]['Availability']:\n",
    "            print('book is returned')\n",
    "            books[book_key]['Availability'] = True\n",
    "        else:\n",
    "            print('Book is already available and can not be returned')\n",
    "    else:\n",
    "        print('Book is borrowed')\n",
    "        books[book_key]['Availability'] = False\n",
    "        \n",
    "                 \n",
    "Book_status(books, 'Book1', True)\n",
    "\n"
   ]
  },
  {
   "cell_type": "code",
   "execution_count": 53,
   "id": "661c14d4",
   "metadata": {},
   "outputs": [
    {
     "name": "stdout",
     "output_type": "stream",
     "text": [
      "The Great Gatsby - Available\n"
     ]
    }
   ],
   "source": [
    "def search_by_author(books, author):\n",
    "    books_found = []\n",
    "    \n",
    "    for key, book in books.items():\n",
    "        if book['Author'] == author:\n",
    "            books_found.append(book)\n",
    "            \n",
    "    for book in books_found:\n",
    "        print(f\"{book['Title']} - {'Available' if book['Availability'] else 'Checked Out'}\")\n",
    "\n",
    "found_books = search_by_author(books, 'F. Scott Fitzgerald')\n",
    "\n"
   ]
  },
  {
   "cell_type": "code",
   "execution_count": null,
   "id": "7d2e89a3",
   "metadata": {},
   "outputs": [],
   "source": []
  }
 ],
 "metadata": {
  "kernelspec": {
   "display_name": "Python 3 (ipykernel)",
   "language": "python",
   "name": "python3"
  },
  "language_info": {
   "codemirror_mode": {
    "name": "ipython",
    "version": 3
   },
   "file_extension": ".py",
   "mimetype": "text/x-python",
   "name": "python",
   "nbconvert_exporter": "python",
   "pygments_lexer": "ipython3",
   "version": "3.11.5"
  }
 },
 "nbformat": 4,
 "nbformat_minor": 5
}
