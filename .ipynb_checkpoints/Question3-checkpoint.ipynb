{
 "cells": [
  {
   "cell_type": "code",
   "execution_count": 4,
   "id": "dcd1f76f",
   "metadata": {},
   "outputs": [],
   "source": [
    "import numpy as np"
   ]
  },
  {
   "cell_type": "code",
   "execution_count": 5,
   "id": "5ae59621",
   "metadata": {},
   "outputs": [],
   "source": [
    "exam_scores = [[85,92,78,90],\n",
    "               [76,88,92,80],\n",
    "               [90,85,88,95],\n",
    "               [82,78,88,75],\n",
    "               [88,90,85,92],\n",
    "              ]"
   ]
  },
  {
   "cell_type": "code",
   "execution_count": 6,
   "id": "d8372cea",
   "metadata": {},
   "outputs": [
    {
     "data": {
      "text/plain": [
       "array([[85, 92, 78, 90],\n",
       "       [76, 88, 92, 80],\n",
       "       [90, 85, 88, 95],\n",
       "       [82, 78, 88, 75],\n",
       "       [88, 90, 85, 92]])"
      ]
     },
     "execution_count": 6,
     "metadata": {},
     "output_type": "execute_result"
    }
   ],
   "source": [
    "np.array(exam_scores)"
   ]
  },
  {
   "cell_type": "code",
   "execution_count": 7,
   "id": "64d9548a",
   "metadata": {},
   "outputs": [
    {
     "name": "stdout",
     "output_type": "stream",
     "text": [
      "Lists can store different types of data types, while homogenous arrays can only store of the same data type,also numpy is more efficient for computing\n"
     ]
    }
   ],
   "source": [
    "#What is the difference between numpy and lists ?. Explain.\n",
    "print(\"Lists can store different types of data types, while homogenous arrays can only store of the same data type,also numpy is more efficient for computing\")"
   ]
  },
  {
   "cell_type": "code",
   "execution_count": 13,
   "id": "bad4b697",
   "metadata": {},
   "outputs": [
    {
     "name": "stdout",
     "output_type": "stream",
     "text": [
      "max score from each subject = [90 92 92 95]\n",
      "min score from each subject = [76 78 78 75]\n"
     ]
    }
   ],
   "source": [
    "#2. Calculate and print the maximum and minimum scores for each subject.\n",
    "max_score_subject = np.max(exam_scores, axis=0)\n",
    "print (\"max score from each subject =\", max_score_subject)\n",
    "min_score_subject = np.min(exam_scores, axis=0)\n",
    "print(\"min score from each subject =\", min_score_subject)"
   ]
  },
  {
   "cell_type": "code",
   "execution_count": 20,
   "id": "69b7d8bd",
   "metadata": {},
   "outputs": [
    {
     "name": "stdout",
     "output_type": "stream",
     "text": [
      "[345 336 358 323 355]\n",
      "Index of best sport 2 - 358\n",
      "Index of worst sport 3 - 323\n"
     ]
    }
   ],
   "source": [
    "#Identify and print the names (row indices) of the students who performed the best and\n",
    "#worst overall (considering the total score across all subjects). Explain your findings.\n",
    "total = np.sum(exam_scores, axis=1)\n",
    "index_best_student = np.argmax(total)\n",
    "index_worst_student = np.argmin(total)\n",
    "print(total)\n",
    "print(\"Index of best sport\", index_best_student, \"-\", total[index_best_student])\n",
    "print(\"Index of worst sport\", index_worst_student, \"-\", total[index_worst_student])"
   ]
  },
  {
   "cell_type": "code",
   "execution_count": 16,
   "id": "4d77a90a",
   "metadata": {},
   "outputs": [
    {
     "name": "stdout",
     "output_type": "stream",
     "text": [
      "The index shows that the 3rd student, with the index of 2 has the best total, while the 4th student, with the index of 3 has the worst\n"
     ]
    }
   ],
   "source": [
    "print(\"The index shows that the 3rd student, with the index of 2 has the best total, while the 4th student, with the index of 3 has the worst\")"
   ]
  },
  {
   "cell_type": "code",
   "execution_count": 17,
   "id": "de0d4ee3",
   "metadata": {},
   "outputs": [
    {
     "name": "stdout",
     "output_type": "stream",
     "text": [
      "[84.2 86.6 86.2 86.4]\n"
     ]
    }
   ],
   "source": [
    "#Identify and print the subject (column index) with the highest and lowest average scores\n",
    "#across all students. Explain your findings. \n",
    "total_averages = np.mean(exam_scores, axis=0)\n",
    "print(total_averages)"
   ]
  },
  {
   "cell_type": "code",
   "execution_count": 21,
   "id": "c0d51d91",
   "metadata": {},
   "outputs": [
    {
     "name": "stdout",
     "output_type": "stream",
     "text": [
      "Highest average index = 1 - 86.6\n",
      "Lowest average index = 0 - 84.2\n"
     ]
    }
   ],
   "source": [
    "highest_avg_index = np.argmax(total_averages)\n",
    "lowest_avg_index = np.argmin(total_averages)\n",
    "print(\"Highest average index =\", highest_avg_index, \"-\", total_averages[highest_avg_index])\n",
    "print(\"Lowest average index =\", lowest_avg_index, \"-\", total_averages[lowest_avg_index])"
   ]
  },
  {
   "cell_type": "code",
   "execution_count": null,
   "id": "94c3f358",
   "metadata": {},
   "outputs": [],
   "source": []
  }
 ],
 "metadata": {
  "kernelspec": {
   "display_name": "Python 3 (ipykernel)",
   "language": "python",
   "name": "python3"
  },
  "language_info": {
   "codemirror_mode": {
    "name": "ipython",
    "version": 3
   },
   "file_extension": ".py",
   "mimetype": "text/x-python",
   "name": "python",
   "nbconvert_exporter": "python",
   "pygments_lexer": "ipython3",
   "version": "3.11.5"
  }
 },
 "nbformat": 4,
 "nbformat_minor": 5
}
